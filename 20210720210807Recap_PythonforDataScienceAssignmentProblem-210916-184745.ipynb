{
 "cells": [
  {
   "cell_type": "markdown",
   "metadata": {
    "id": "uKnewxWPCAcR"
   },
   "source": [
    "<center><img src=\"https://github.com/insaid2018/Term-1/blob/master/Images/INSAID_Full%20Logo.png?raw=true\" width=\"240\" height=\"100\" /></center>"
   ]
  },
  {
   "cell_type": "markdown",
   "metadata": {
    "id": "Gru3Qit5CC-k"
   },
   "source": [
    "**<center><h3>Recap: Python for Data Science Assignment Problem</h3></center>**"
   ]
  },
  {
   "cell_type": "markdown",
   "metadata": {
    "id": "GawnpjHrDF-V"
   },
   "source": [
    "---\n",
    "**<h4>Question 1:** Create a function that swap two numbers with their position.</h4>\n",
    "\n",
    "---\n",
    "\n",
    "- For example, you entered `a = 5` and `b = 6`.\n",
    "\n",
    "- The value returned will be `a = 6` and `b = 5`.\n",
    "\n",
    "<details>\n",
    "\n",
    "**<summary>Hint:</summary>**\n",
    "\n",
    "- There are two ways by which you can achieve this.\n",
    "\n",
    "- Either you can take three variables or try out some maths operations.\n",
    "\n",
    "</details>"
   ]
  },
  {
   "cell_type": "code",
   "execution_count": 9,
   "metadata": {
    "id": "692Phk0OI7r1"
   },
   "outputs": [],
   "source": [
    "def swap2nos(a=1, b=0.3):\n",
    "    print('before swap:')\n",
    "    print('a = ', a, 'and b = ',b)\n",
    "    \n",
    "    temp = a\n",
    "    a = b\n",
    "    b = temp\n",
    "    print('---------------------')\n",
    "    print('after swap:')\n",
    "    print('a = {1} and b = {0}'.format(b,a))"
   ]
  },
  {
   "cell_type": "code",
   "execution_count": 10,
   "metadata": {
    "id": "uzf-G2yHDDLH",
    "scrolled": true
   },
   "outputs": [
    {
     "name": "stdout",
     "output_type": "stream",
     "text": [
      "before swap:\n",
      "a =  5 and b =  6\n",
      "---------------------\n",
      "after swap:\n",
      "a = 6 and b = 5\n"
     ]
    }
   ],
   "source": [
    "swap2nos(a=5, b=6)"
   ]
  },
  {
   "cell_type": "code",
   "execution_count": 15,
   "metadata": {
    "scrolled": true
   },
   "outputs": [
    {
     "name": "stdout",
     "output_type": "stream",
     "text": [
      "8.4\n"
     ]
    }
   ],
   "source": [
    "my_salary = 5+3.4\n",
    "print(my_salary)"
   ]
  },
  {
   "cell_type": "code",
   "execution_count": 12,
   "metadata": {},
   "outputs": [
    {
     "name": "stdout",
     "output_type": "stream",
     "text": [
      "8.4\n"
     ]
    }
   ],
   "source": [
    "print(5+3.4)"
   ]
  },
  {
   "cell_type": "markdown",
   "metadata": {
    "id": "Am10FuMSIpBO"
   },
   "source": [
    "---\n",
    "**<h4>Question 2:** Create a function that converts the datatype of a variable to a string type if it is not numeric.</h4>\n",
    "\n",
    "---\n",
    "\n",
    "- For example, you entered `num = 10` and its type is `int`.\n",
    "\n",
    "- The value returned will be `num = 10` and its type will be `str`.\n",
    "\n",
    "<details>\n",
    "\n",
    "**<summary>Hint:</summary>**\n",
    "\n",
    "- You must have learned about the typecasting in the python starter kit. Haven't you?\n",
    "\n",
    "- You can either put chained conditions to identify the data type and then typecast it,\n",
    "\n",
    "- Or directly convert the data type despite of its type.\n",
    "\n",
    "</details>"
   ]
  },
  {
   "cell_type": "code",
   "execution_count": null,
   "metadata": {},
   "outputs": [],
   "source": [
    "#data types: \n",
    "#int - 0,2,-3, 450, . . . \n",
    "#str - \"name\", \"Depesh's Pen\", \"AJKEL2345I\"\n",
    "#bool - True False\n",
    "#float - real number 3.1415\n",
    "#complex - 5 + 3j (we dont need complex number in data science)"
   ]
  },
  {
   "cell_type": "code",
   "execution_count": null,
   "metadata": {
    "id": "oaMoMOo1IpVt"
   },
   "outputs": [],
   "source": [
    "def convertType(num=None):\n",
    "  # Put your code here."
   ]
  },
  {
   "cell_type": "code",
   "execution_count": null,
   "metadata": {
    "id": "S0N8Gv-YKsvD"
   },
   "outputs": [],
   "source": [
    "convertType(num=10)"
   ]
  },
  {
   "cell_type": "code",
   "execution_count": 17,
   "metadata": {},
   "outputs": [
    {
     "data": {
      "text/plain": [
       "int"
      ]
     },
     "execution_count": 17,
     "metadata": {},
     "output_type": "execute_result"
    }
   ],
   "source": [
    "num = 10\n",
    "type(num)"
   ]
  },
  {
   "cell_type": "code",
   "execution_count": 18,
   "metadata": {},
   "outputs": [
    {
     "data": {
      "text/plain": [
       "str"
      ]
     },
     "execution_count": 18,
     "metadata": {},
     "output_type": "execute_result"
    }
   ],
   "source": [
    "num_a = '10'\n",
    "type(num_a)"
   ]
  },
  {
   "cell_type": "code",
   "execution_count": 19,
   "metadata": {},
   "outputs": [
    {
     "name": "stdout",
     "output_type": "stream",
     "text": [
      "type of num is <class 'int'>, where as type of num_b is <class 'str'>\n"
     ]
    }
   ],
   "source": [
    "num_b = str(num)\n",
    "print('type of num is {}, where as type of num_b is {}'.format(type(num),type(num_b)))"
   ]
  },
  {
   "cell_type": "code",
   "execution_count": null,
   "metadata": {},
   "outputs": [],
   "source": [
    "#create a new variable or save inside itself.\n",
    "\n",
    "# discussion - depends on the use"
   ]
  },
  {
   "cell_type": "code",
   "execution_count": 22,
   "metadata": {},
   "outputs": [
    {
     "ename": "ValueError",
     "evalue": "invalid literal for int() with base 10: 'deepesh'",
     "output_type": "error",
     "traceback": [
      "\u001b[1;31m---------------------------------------------------------------------------\u001b[0m",
      "\u001b[1;31mValueError\u001b[0m                                Traceback (most recent call last)",
      "\u001b[1;32m<ipython-input-22-ff33bbc38187>\u001b[0m in \u001b[0;36m<module>\u001b[1;34m\u001b[0m\n\u001b[0;32m      1\u001b[0m \u001b[0mstr1\u001b[0m \u001b[1;33m=\u001b[0m \u001b[1;34m'deepesh'\u001b[0m\u001b[1;33m\u001b[0m\u001b[1;33m\u001b[0m\u001b[0m\n\u001b[0;32m      2\u001b[0m \u001b[1;33m\u001b[0m\u001b[0m\n\u001b[1;32m----> 3\u001b[1;33m \u001b[0mnum\u001b[0m \u001b[1;33m=\u001b[0m \u001b[0mint\u001b[0m\u001b[1;33m(\u001b[0m\u001b[0mstr_1\u001b[0m\u001b[1;33m)\u001b[0m\u001b[1;33m\u001b[0m\u001b[1;33m\u001b[0m\u001b[0m\n\u001b[0m\u001b[0;32m      4\u001b[0m \u001b[0mprint\u001b[0m\u001b[1;33m(\u001b[0m\u001b[0mtype\u001b[0m\u001b[1;33m(\u001b[0m\u001b[0mnum\u001b[0m\u001b[1;33m)\u001b[0m\u001b[1;33m)\u001b[0m\u001b[1;33m\u001b[0m\u001b[1;33m\u001b[0m\u001b[0m\n",
      "\u001b[1;31mValueError\u001b[0m: invalid literal for int() with base 10: 'deepesh'"
     ]
    }
   ],
   "source": [
    "str1 = 'deepesh'\n",
    "\n",
    "num = int(str_1)\n",
    "print(type(num))"
   ]
  },
  {
   "cell_type": "code",
   "execution_count": 25,
   "metadata": {},
   "outputs": [
    {
     "name": "stdout",
     "output_type": "stream",
     "text": [
      "<class 'int'>\n"
     ]
    }
   ],
   "source": [
    "str1 = '10'\n",
    "\n",
    "num = int(str1)\n",
    "print(type(num))"
   ]
  },
  {
   "cell_type": "markdown",
   "metadata": {
    "id": "51YFnY5cRkNe"
   },
   "source": [
    "---\n",
    "**<h4>Question 3:** Create a function that calculates area of the triangle from user input.</h4>\n",
    "\n",
    "---\n",
    "\n",
    "- For example, you entered `base = 10` and `height = 3`.\n",
    "\n",
    "- The value returned will be `area = 15`.\n",
    "\n",
    "<details>\n",
    "\n",
    "**<summary>Hint:</summary>**\n",
    "\n",
    "- The formula to estimate area of triangle is $\\large \\frac{1}2 * base * height$\n",
    "\n",
    "</details>"
   ]
  },
  {
   "cell_type": "code",
   "execution_count": 28,
   "metadata": {
    "scrolled": true
   },
   "outputs": [
    {
     "name": "stdout",
     "output_type": "stream",
     "text": [
      "type a question/request hererequest\n"
     ]
    }
   ],
   "source": [
    "variable = input('type a question/request here') "
   ]
  },
  {
   "cell_type": "code",
   "execution_count": 29,
   "metadata": {},
   "outputs": [
    {
     "data": {
      "text/plain": [
       "'request'"
      ]
     },
     "execution_count": 29,
     "metadata": {},
     "output_type": "execute_result"
    }
   ],
   "source": [
    "variable"
   ]
  },
  {
   "cell_type": "code",
   "execution_count": 36,
   "metadata": {
    "id": "4DTik9qhKu6j"
   },
   "outputs": [],
   "source": [
    "def areaOfTriangle():\n",
    "    base = float(input('Please input the base : '))\n",
    "    height = float(input('Please input the height : '))\n",
    "    area = 0.5*base*height\n",
    "    return area"
   ]
  },
  {
   "cell_type": "code",
   "execution_count": 37,
   "metadata": {
    "id": "wSxD9QcNQbsq",
    "scrolled": true
   },
   "outputs": [
    {
     "name": "stdout",
     "output_type": "stream",
     "text": [
      "Please input the base : 3.14\n",
      "Please input the height : 5.28\n"
     ]
    },
    {
     "data": {
      "text/plain": [
       "8.2896"
      ]
     },
     "execution_count": 37,
     "metadata": {},
     "output_type": "execute_result"
    }
   ],
   "source": [
    "# Calling function to estimate area of triangle\n",
    "areaOfTriangle()"
   ]
  },
  {
   "cell_type": "code",
   "execution_count": 38,
   "metadata": {},
   "outputs": [
    {
     "name": "stdout",
     "output_type": "stream",
     "text": [
      "Please input the base : 3.14\n",
      "Please input the height : 5.28\n",
      "8.2896\n"
     ]
    }
   ],
   "source": [
    "print(areaOfTriangle())"
   ]
  },
  {
   "cell_type": "markdown",
   "metadata": {
    "id": "ny2aerl5cc2Z"
   },
   "source": [
    "---\n",
    "**<h4>Question 4:** Create a function that displays largest number from the provided list.</h4>\n",
    "\n",
    "---\n",
    "\n",
    "- For example, there's a list as `[18, 12, 28, 16, 22, 29, 23, 26]`.\n",
    "\n",
    "- The value returned will be `area = 29`.\n",
    "\n",
    "<details>\n",
    "\n",
    "**<summary>Hint:</summary>**\n",
    "\n",
    "- You must have learned about the control flow in the python starter kit. Haven't you?\n",
    "\n",
    "- There can be many ways to achieve this, but let's think in a simple logical way.\n",
    "\n",
    "- You initialize a variable with any value present in the list. Let's say first value, list[0].\n",
    "\n",
    "- Then iterate over each value present in the list and check if it's greater than the initialized value.\n",
    "\n",
    "- If it's greater than the value you assign it back to the initialzed variable and return it.\n",
    "\n",
    "</details>"
   ]
  },
  {
   "cell_type": "code",
   "execution_count": 49,
   "metadata": {},
   "outputs": [],
   "source": [
    "#List - data structure, mutable, ordered\n",
    "#list of out annual spend on healthcare\n",
    "#[grandpa, grandma, son, daughter-in-law, grandson]\n",
    "#[0,1,2,3,4]\n",
    "#n element - index frm 0 to n-1\n",
    "\n",
    "\n",
    "HClist = [54,26,10,8,3]"
   ]
  },
  {
   "cell_type": "code",
   "execution_count": 50,
   "metadata": {},
   "outputs": [
    {
     "data": {
      "text/plain": [
       "59"
      ]
     },
     "execution_count": 50,
     "metadata": {},
     "output_type": "execute_result"
    }
   ],
   "source": [
    "HClist[0]+5"
   ]
  },
  {
   "cell_type": "code",
   "execution_count": 51,
   "metadata": {},
   "outputs": [],
   "source": [
    "HClist[0] += 5"
   ]
  },
  {
   "cell_type": "code",
   "execution_count": 52,
   "metadata": {},
   "outputs": [
    {
     "data": {
      "text/plain": [
       "[59, 26, 10, 8, 3]"
      ]
     },
     "execution_count": 52,
     "metadata": {},
     "output_type": "execute_result"
    }
   ],
   "source": [
    "HClist"
   ]
  },
  {
   "cell_type": "code",
   "execution_count": 54,
   "metadata": {},
   "outputs": [
    {
     "data": {
      "text/plain": [
       "[59, 26]"
      ]
     },
     "execution_count": 54,
     "metadata": {},
     "output_type": "execute_result"
    }
   ],
   "source": [
    "#slicing\n",
    "HClist[0:2] #[start inclusive:end non inclusive]"
   ]
  },
  {
   "cell_type": "code",
   "execution_count": 55,
   "metadata": {},
   "outputs": [
    {
     "data": {
      "text/plain": [
       "3"
      ]
     },
     "execution_count": 55,
     "metadata": {},
     "output_type": "execute_result"
    }
   ],
   "source": [
    "HClist[-1]"
   ]
  },
  {
   "cell_type": "code",
   "execution_count": null,
   "metadata": {},
   "outputs": [],
   "source": [
    "#[18, 12, 28, 16, 22, 29, 23, 26]\n",
    "# flag = 18\n",
    "\n",
    "# if 12>18 - change the flag to 12 else keep to 18 - flag kept to 18\n",
    "# if 28>18 - change the flag to 28 else keep to 18 - flag changes to 28\n",
    "# if 16>28  - ----------------- 16 ------------ 28\n",
    ".\n",
    ".\n",
    ".\n",
    ".\n"
   ]
  },
  {
   "cell_type": "code",
   "execution_count": 62,
   "metadata": {},
   "outputs": [
    {
     "name": "stdout",
     "output_type": "stream",
     "text": [
      "18 18\n",
      "12 18\n",
      "28 18\n",
      "16 28\n",
      "22 28\n",
      "29 28\n",
      "23 29\n",
      "26 29\n",
      "Max value is 29\n"
     ]
    }
   ],
   "source": [
    "list_in = [18, 12, 28, 16, 22, 29, 23, 26]\n",
    "\n",
    "flag = list_in[0]\n",
    "for value in list_in:\n",
    "    print(value, flag)\n",
    "    if (value > flag):\n",
    "        flag = value\n",
    "print('Max value is', flag)"
   ]
  },
  {
   "cell_type": "code",
   "execution_count": 63,
   "metadata": {},
   "outputs": [
    {
     "name": "stdout",
     "output_type": "stream",
     "text": [
      "1\n",
      "2\n",
      "3\n",
      "4\n",
      "5\n",
      "6\n",
      "7\n",
      "8\n",
      "9\n"
     ]
    },
    {
     "ename": "IndexError",
     "evalue": "list index out of range",
     "output_type": "error",
     "traceback": [
      "\u001b[1;31m---------------------------------------------------------------------------\u001b[0m",
      "\u001b[1;31mIndexError\u001b[0m                                Traceback (most recent call last)",
      "\u001b[1;32m<ipython-input-63-fd8966305ce2>\u001b[0m in \u001b[0;36m<module>\u001b[1;34m\u001b[0m\n\u001b[0;32m      5\u001b[0m \u001b[1;32mfor\u001b[0m \u001b[0melement\u001b[0m \u001b[1;32min\u001b[0m \u001b[0mlist1\u001b[0m\u001b[1;33m:\u001b[0m\u001b[1;33m\u001b[0m\u001b[1;33m\u001b[0m\u001b[0m\n\u001b[0;32m      6\u001b[0m     \u001b[0mprint\u001b[0m\u001b[1;33m(\u001b[0m\u001b[0melement\u001b[0m\u001b[1;33m)\u001b[0m\u001b[1;33m\u001b[0m\u001b[1;33m\u001b[0m\u001b[0m\n\u001b[1;32m----> 7\u001b[1;33m     \u001b[1;32mif\u001b[0m \u001b[0mmax\u001b[0m \u001b[1;33m<\u001b[0m \u001b[0mlist1\u001b[0m\u001b[1;33m[\u001b[0m\u001b[0melement\u001b[0m\u001b[1;33m]\u001b[0m\u001b[1;33m:\u001b[0m\u001b[1;33m\u001b[0m\u001b[1;33m\u001b[0m\u001b[0m\n\u001b[0m\u001b[0;32m      8\u001b[0m         \u001b[0mmax\u001b[0m \u001b[1;33m=\u001b[0m \u001b[0mlist1\u001b[0m\u001b[1;33m[\u001b[0m\u001b[0melement\u001b[0m\u001b[1;33m]\u001b[0m\u001b[1;33m\u001b[0m\u001b[1;33m\u001b[0m\u001b[0m\n\u001b[0;32m      9\u001b[0m \u001b[1;33m\u001b[0m\u001b[0m\n",
      "\u001b[1;31mIndexError\u001b[0m: list index out of range"
     ]
    }
   ],
   "source": [
    "list1 = [1,2,3,4,5,6,7,8,9]\n",
    "\n",
    "max = list1[0]\n",
    "\n",
    "for element in list1:\n",
    "    print(element)\n",
    "    if max < element:\n",
    "        max = list1[element]  \n",
    "        \n",
    "print(max)\n"
   ]
  },
  {
   "cell_type": "code",
   "execution_count": 57,
   "metadata": {
    "id": "CTHVcbIVQrrp"
   },
   "outputs": [],
   "source": [
    "def maxValue(list_in):\n",
    "    flag = list_in[0]\n",
    "    for value in list_in:\n",
    "        if (value > flag):\n",
    "            flag = value\n",
    "    return flag\n",
    "# comment if possible. explain the code."
   ]
  },
  {
   "cell_type": "code",
   "execution_count": 60,
   "metadata": {
    "id": "9admZ4gigbA4"
   },
   "outputs": [],
   "source": [
    "variable1 = maxValue(list_in=[18, 12, 28, 16, 22, 29, 23, 26])"
   ]
  },
  {
   "cell_type": "code",
   "execution_count": 61,
   "metadata": {},
   "outputs": [
    {
     "data": {
      "text/plain": [
       "49"
      ]
     },
     "execution_count": 61,
     "metadata": {},
     "output_type": "execute_result"
    }
   ],
   "source": [
    "variable1+20"
   ]
  },
  {
   "cell_type": "markdown",
   "metadata": {
    "id": "hC0U5nIRjcLa"
   },
   "source": [
    "---\n",
    "**<h4>Question 5:** Create a function that removes duplicate values from the provided list.</h4>\n",
    "\n",
    "---\n",
    "\n",
    "- For example, there's a list as `[10, 20, 30, 40, 50, 60, 70, 40, 80, 50, 40]`.\n",
    "\n",
    "- The returned list will be `[70, 40, 10, 80, 50, 20, 60, 30]`.\n",
    "\n",
    "<details>\n",
    "\n",
    "**<summary>Hint:</summary>**\n",
    "\n",
    "- You can typecast your list to a set type and then again typecast it to a list.\n",
    "\n",
    "- You can also use control flow over the list with different python operators to achieve the objective.\n",
    "\n",
    "</details>"
   ]
  },
  {
   "cell_type": "code",
   "execution_count": 1,
   "metadata": {},
   "outputs": [],
   "source": [
    "my_list = [10, 20, 30, 40, 50, 60, 70, 40, 80, 50, 40]\n",
    "my_set = set(my_list)"
   ]
  },
  {
   "cell_type": "code",
   "execution_count": 3,
   "metadata": {},
   "outputs": [
    {
     "data": {
      "text/plain": [
       "[70, 40, 10, 80, 50, 20, 60, 30]"
      ]
     },
     "execution_count": 3,
     "metadata": {},
     "output_type": "execute_result"
    }
   ],
   "source": [
    "my_converted_list = list(my_set)\n",
    "my_converted_list"
   ]
  },
  {
   "cell_type": "code",
   "execution_count": 4,
   "metadata": {
    "id": "Z_O7p4J9pBm_"
   },
   "outputs": [],
   "source": [
    "def removeDuplicates(list_in):\n",
    "    my_converted_list = list(set(my_list))\n",
    "    return my_converted_list"
   ]
  },
  {
   "cell_type": "code",
   "execution_count": 5,
   "metadata": {
    "id": "GGLzJk9rhozJ"
   },
   "outputs": [
    {
     "data": {
      "text/plain": [
       "[70, 40, 10, 80, 50, 20, 60, 30]"
      ]
     },
     "execution_count": 5,
     "metadata": {},
     "output_type": "execute_result"
    }
   ],
   "source": [
    "removeDuplicates(list_in=[10, 20, 30, 40, 50, 60, 70, 40, 80, 50, 40])"
   ]
  },
  {
   "cell_type": "code",
   "execution_count": 6,
   "metadata": {},
   "outputs": [
    {
     "name": "stdout",
     "output_type": "stream",
     "text": [
      "[10, 20, 30, 40, 50, 60, 70, 80]\n"
     ]
    }
   ],
   "source": [
    "# logic - english langeuage - pseudo code\n",
    "\n",
    "# [10, 20, 30, 40,50,60,70,80 ]\n",
    "\n",
    "list_in=[10, 20, 30, 40, 50, 60, 70, 40, 80, 50, 40]\n",
    "unique = []\n",
    "for element in list_in:\n",
    "    if element not in unique:\n",
    "        unique.append(element)\n",
    "        \n",
    "print(unique)"
   ]
  },
  {
   "cell_type": "code",
   "execution_count": 9,
   "metadata": {},
   "outputs": [
    {
     "data": {
      "text/plain": [
       "{'Name': 'Deepesh',\n",
       " 'Occupation': 'Teacher',\n",
       " 'Age': 34,\n",
       " 'Fav pen': \"Lamy's All star\"}"
      ]
     },
     "execution_count": 9,
     "metadata": {},
     "output_type": "execute_result"
    }
   ],
   "source": [
    "# dict - key value pair\n",
    "my_dict = {'Name': 'Deepesh', 'Occupation': 'Teacher', 'Age': 34, 'Fav pen': \"Lamy's All star\"}\n",
    "\n",
    "my_dict"
   ]
  },
  {
   "cell_type": "code",
   "execution_count": null,
   "metadata": {},
   "outputs": [],
   "source": [
    "# set - {element1, element 2...} - unordered\n",
    "# list - [] - ordered - mutable\n",
    "# tuple - () -immutable\n",
    "\n",
    "# my_tup = tuple(list_name)\n",
    "\n",
    "#we actually use NONE of these structures in data science, not even list.\n"
   ]
  },
  {
   "cell_type": "markdown",
   "metadata": {
    "id": "poOh3PgUq_Yz"
   },
   "source": [
    "---\n",
    "**<h4>Question 6:** Create a function that displays a sum of values present in a list.</h4>\n",
    "\n",
    "---\n",
    "\n",
    "- For example, there's a list as `[1, 2, 3, 4, 5, 6, 7, 8, 9, 10]`.\n",
    "\n",
    "- The returned sum will be `55`.\n",
    "\n",
    "<details>\n",
    "\n",
    "**<summary>Hint:</summary>**\n",
    "\n",
    "- You must have learned about the control flow in the python starter kit. Haven't you?\n",
    "\n",
    "- Initialize a variable with a zero value.\n",
    "\n",
    "- Then iterate over the list along with the intialized value to get a sum. \n",
    "\n",
    "</details>"
   ]
  },
  {
   "cell_type": "code",
   "execution_count": 22,
   "metadata": {
    "id": "QnuMdUJZQMow"
   },
   "outputs": [],
   "source": [
    "def sumList(list_in):\n",
    "    my_sum = 0\n",
    "    for spiderman in list_in:\n",
    "        my_sum += spiderman\n",
    "        print(my_sum)\n",
    "    return my_sum\n",
    "        "
   ]
  },
  {
   "cell_type": "code",
   "execution_count": 23,
   "metadata": {
    "id": "WHfu98gVSX7S"
   },
   "outputs": [
    {
     "name": "stdout",
     "output_type": "stream",
     "text": [
      "1\n",
      "3\n",
      "6\n",
      "10\n",
      "15\n",
      "21\n",
      "28\n",
      "36\n",
      "45\n",
      "55\n"
     ]
    },
    {
     "data": {
      "text/plain": [
       "55"
      ]
     },
     "execution_count": 23,
     "metadata": {},
     "output_type": "execute_result"
    }
   ],
   "source": [
    "sumList(list_in=[1, 2, 3, 4, 5, 6, 7, 8, 9, 10])"
   ]
  },
  {
   "cell_type": "markdown",
   "metadata": {
    "id": "sHUwC4EQskYx"
   },
   "source": [
    "---\n",
    "**<h4>Question 7:** Create a function that reverse a provided string.</h4>\n",
    "\n",
    "---\n",
    "\n",
    "- For example, you passed a string such as `INSAID`.\n",
    "\n",
    "- The returned string will be `DIASNI`.\n",
    "\n",
    "<details>\n",
    "\n",
    "**<summary>Hint:</summary>**\n",
    "\n",
    "- There are several ways to achieving the defined objective.\n",
    "\n",
    "- Either you can iterate over the characters of the string or use the string striding (mostly used).\n",
    "\n",
    "</details>"
   ]
  },
  {
   "cell_type": "code",
   "execution_count": 29,
   "metadata": {},
   "outputs": [
    {
     "data": {
      "text/plain": [
       "'DIASNI'"
      ]
     },
     "execution_count": 29,
     "metadata": {},
     "output_type": "execute_result"
    }
   ],
   "source": [
    "my_str = 'INSAID'\n",
    "my_str[::-1]"
   ]
  },
  {
   "cell_type": "code",
   "execution_count": null,
   "metadata": {},
   "outputs": [],
   "source": [
    "# ____\n",
    "# D\n",
    "# DI\n",
    "# DIA\n",
    "# DIAS\n",
    "# DIASN\n",
    "# DIASNI\n",
    "\n",
    "#ctrl + /"
   ]
  },
  {
   "cell_type": "code",
   "execution_count": 35,
   "metadata": {
    "id": "pCO0S0_ppDvG"
   },
   "outputs": [],
   "source": [
    "def stringReverse(my_string):\n",
    "    reverse = '' #starting with empty\n",
    "    \n",
    "    length = len(my_string)\n",
    "    \n",
    "    for i in range(0,length): #one element at a time # range -> [0,1,2,3,4,5] \n",
    "                                #but what we want is [5,4,3,2,1,0]\n",
    "        reverse += my_string[length-i-1]\n",
    "        print(reverse)\n",
    "    return reverse"
   ]
  },
  {
   "cell_type": "code",
   "execution_count": 36,
   "metadata": {
    "scrolled": true
   },
   "outputs": [
    {
     "name": "stdout",
     "output_type": "stream",
     "text": [
      "D\n",
      "DI\n",
      "DIA\n",
      "DIAS\n",
      "DIASN\n",
      "DIASNI\n"
     ]
    },
    {
     "data": {
      "text/plain": [
       "'DIASNI'"
      ]
     },
     "execution_count": 36,
     "metadata": {},
     "output_type": "execute_result"
    }
   ],
   "source": [
    "stringReverse('INSAID')"
   ]
  },
  {
   "cell_type": "code",
   "execution_count": null,
   "metadata": {},
   "outputs": [],
   "source": [
    "# extract PAN number from GST number\n",
    "# GST no - 23ABEDS9987D1ZY"
   ]
  },
  {
   "cell_type": "code",
   "execution_count": null,
   "metadata": {
    "id": "jUuxoV1_W9Hi"
   },
   "outputs": [],
   "source": [
    "# Display the reverse string\n",
    "print('Reversed String: {}'.format(stringReverse()))"
   ]
  },
  {
   "cell_type": "markdown",
   "metadata": {
    "id": "K9--aUgVZdDi"
   },
   "source": [
    "---\n",
    "**<h4>Question 8:** Create a function that returns a combination of two tuples.</h4>\n",
    "\n",
    "---\n",
    "\n",
    "- For example, you passed two tuples such as `(0, 1, 2, 3)` and `('python', 'code')`.\n",
    "\n",
    "- The returned tuple will be `(0, 1, 2, 3, 'python', 'code')`.\n",
    "\n",
    "<details>\n",
    "\n",
    "**<summary>Hint:</summary>**\n",
    "\n",
    "- Why don't you try out the simple mathematical operation such as addition.\n",
    "\n",
    "</details>"
   ]
  },
  {
   "cell_type": "code",
   "execution_count": 37,
   "metadata": {},
   "outputs": [
    {
     "data": {
      "text/plain": [
       "(0, 1, 2, 3, 3, 4, 5, 6)"
      ]
     },
     "execution_count": 37,
     "metadata": {},
     "output_type": "execute_result"
    }
   ],
   "source": [
    "(0,1,2,3)+(3,4,5,6)"
   ]
  },
  {
   "cell_type": "code",
   "execution_count": 38,
   "metadata": {
    "id": "He7eMxnDYgo-"
   },
   "outputs": [],
   "source": [
    "def concatTuple(tup1=None, tup2=None):\n",
    "    new_tup = tup1 + tup2\n",
    "    return new_tup"
   ]
  },
  {
   "cell_type": "code",
   "execution_count": 39,
   "metadata": {
    "id": "-jxzSYclbSHm"
   },
   "outputs": [
    {
     "name": "stdout",
     "output_type": "stream",
     "text": [
      "Concatenated Tuple: (0, 1, 2, 3, 'python', 'code')\n"
     ]
    }
   ],
   "source": [
    "tuple1 = (0, 1, 2, 3)\n",
    "tuple2 = ('python', 'code')\n",
    "\n",
    "# Display the concatenation of tuples\n",
    "print('Concatenated Tuple: {}'.format(concatTuple(tup1=tuple1, tup2=tuple2)))"
   ]
  },
  {
   "cell_type": "markdown",
   "metadata": {
    "id": "Yoe1vKMHcNeR"
   },
   "source": [
    "---\n",
    "**<h4>Question 9:** Create a function that returns an indicator of whether a provided key already exists in a dictionary.</h4>\n",
    "\n",
    "---\n",
    "\n",
    "- For example, there's a dictionary such as `{1: 10, 2: 20, 3: 30, 4: 40, 5: 50, 6: 60}`.\n",
    "\n",
    "- You passed a value to the function such as `3`, then a returned value will be `True`.\n",
    "\n",
    "- Let's say you passed a value to the function such as `8`, then a returned value will be `False`.\n",
    "\n",
    "<details>\n",
    "\n",
    "**<summary>Hint:</summary>**\n",
    "\n",
    "- You must have learned about the control flow and operators in the python starter kit. Haven't you?\n",
    "\n",
    "- You can get the desired result using simple IF-ELSE operation.\n",
    "\n",
    "</details>"
   ]
  },
  {
   "cell_type": "code",
   "execution_count": 43,
   "metadata": {
    "id": "1cLa8iChbmQK"
   },
   "outputs": [],
   "source": [
    "def isKeyPresent(dict_in=None, key=None):\n",
    "    if key in dict_in:\n",
    "        return True\n",
    "    else:\n",
    "        return False"
   ]
  },
  {
   "cell_type": "code",
   "execution_count": 44,
   "metadata": {
    "id": "qno80WjPenI0"
   },
   "outputs": [
    {
     "name": "stdout",
     "output_type": "stream",
     "text": [
      "Returned Indicator: True\n"
     ]
    }
   ],
   "source": [
    "dict_in = {1: 10, 2: 20, 3: 30, 4: 40, 5: 50, 6: 60}\n",
    "\n",
    "# Display the indicator\n",
    "print('Returned Indicator: {}'.format(isKeyPresent(dict_in=dict_in, key=4)))"
   ]
  },
  {
   "cell_type": "code",
   "execution_count": 49,
   "metadata": {},
   "outputs": [
    {
     "data": {
      "text/plain": [
       "6"
      ]
     },
     "execution_count": 49,
     "metadata": {},
     "output_type": "execute_result"
    }
   ],
   "source": [
    "# len(dict_in)\n",
    "# dict_in[key]"
   ]
  },
  {
   "cell_type": "code",
   "execution_count": null,
   "metadata": {},
   "outputs": [],
   "source": [
    "# for loop method to search a value"
   ]
  },
  {
   "cell_type": "markdown",
   "metadata": {
    "id": "0n0F_SeZgXhI"
   },
   "source": [
    "---\n",
    "**<h4>Question 10:** Create a function that returns a combination of two python dictionary.</h4>\n",
    "\n",
    "---\n",
    "\n",
    "- For example, there's are two dictionaries such as `{'a': 100, 'b': 200}` and `{'x': 300, 'y': 200}`.\n",
    "\n",
    "- The returned dictionary will be `{'a': 100, 'b': 200, 'x': 300, 'y': 200}`.\n",
    "\n",
    "<details>\n",
    "\n",
    "**<summary>Hint:</summary>**\n",
    "\n",
    "- Initialize a variable with empty dictionary or using dict() method.\n",
    "\n",
    "- Update the newly initialized dictionary with the first dictionary using .update() method.\n",
    "\n",
    "- Then again update the newly initialized dictionary with the second dictionary using .update() method.\n",
    "\n",
    "</details>"
   ]
  },
  {
   "cell_type": "code",
   "execution_count": 54,
   "metadata": {},
   "outputs": [
    {
     "data": {
      "text/plain": [
       "{'a': 100, 'b': 200, 'x': 300, 'y': 200}"
      ]
     },
     "execution_count": 54,
     "metadata": {},
     "output_type": "execute_result"
    }
   ],
   "source": [
    "d1 = {'a': 100, 'b': 200}\n",
    "d2 = {'x': 300, 'y': 200}\n",
    "d1.update(d2)\n",
    "d1"
   ]
  },
  {
   "cell_type": "code",
   "execution_count": 55,
   "metadata": {
    "id": "T5VburKkhgWS"
   },
   "outputs": [],
   "source": [
    "def combineDict(dict1=None, dict2=None):\n",
    "    temp_dict = dict1\n",
    "    temp_dict.update(dict2)\n",
    "    return temp_dict"
   ]
  },
  {
   "cell_type": "code",
   "execution_count": 56,
   "metadata": {
    "id": "JJuu5_5_gXWV"
   },
   "outputs": [
    {
     "name": "stdout",
     "output_type": "stream",
     "text": [
      "Final Dictionary: {'a': 100, 'b': 200, 'x': 300, 'y': 200}\n"
     ]
    }
   ],
   "source": [
    "d1 = {'a': 100, 'b': 200}\n",
    "d2 = {'x': 300, 'y': 200}\n",
    "\n",
    "# Display the final dictionary\n",
    "print('Final Dictionary: {}'.format(combineDict(dict1=d1, dict2=d2)))"
   ]
  },
  {
   "cell_type": "code",
   "execution_count": null,
   "metadata": {},
   "outputs": [],
   "source": [
    "#class and object\n",
    "\n",
    "# int - 2\n",
    "# str -'d'\n",
    "\n",
    "# admission form - [entries of a perspon]"
   ]
  },
  {
   "cell_type": "markdown",
   "metadata": {
    "id": "CineEFU-kjLe"
   },
   "source": [
    "---\n",
    "**<h4>Question 11:** Create a function that returns a factorial of a number.</h4>\n",
    "\n",
    "---\n",
    "\n",
    "- For example, you passed `val = 5`.\n",
    "\n",
    "- The returned value will be `120`.\n",
    "\n",
    "- Underlying working is as shown: `1 * 2 * 3 * 4 * 5 = 120`.\n",
    "\n",
    "<details>\n",
    "\n",
    "**<summary>Hint:</summary>**\n",
    "\n",
    "- Initialize factorial varialble with 1.\n",
    "\n",
    "- If the number is negative display message that factorial of a negative number doesn't exist.\n",
    "\n",
    "- Else if the number is zero return the initialized value.\n",
    "\n",
    "- Else return the factorial value over the specified value in the function.\n",
    "\n",
    "</details>"
   ]
  },
  {
   "cell_type": "code",
   "execution_count": 57,
   "metadata": {
    "id": "CEkUPiRbhfBW"
   },
   "outputs": [],
   "source": [
    "def factorial(num = 0):\n",
    "    fact = 1\n",
    "    for i in range(1,num+1):\n",
    "        fact *= i \n",
    "    \n",
    "    return fact"
   ]
  },
  {
   "cell_type": "code",
   "execution_count": 70,
   "metadata": {},
   "outputs": [
    {
     "data": {
      "text/plain": [
       "14400"
      ]
     },
     "execution_count": 70,
     "metadata": {},
     "output_type": "execute_result"
    }
   ],
   "source": [
    "# calcualte square of fact\n",
    "\n",
    "fact = factorial(5)\n",
    "\n",
    "fact**2"
   ]
  },
  {
   "cell_type": "code",
   "execution_count": 65,
   "metadata": {
    "id": "3EUnVZB9eaAb"
   },
   "outputs": [
    {
     "name": "stdout",
     "output_type": "stream",
     "text": [
      "Factorial: 1\n"
     ]
    }
   ],
   "source": [
    "# Display the fictorial value\n",
    "print('Factorial: {}'.format(factorial()))"
   ]
  },
  {
   "cell_type": "code",
   "execution_count": 67,
   "metadata": {},
   "outputs": [
    {
     "name": "stdout",
     "output_type": "stream",
     "text": [
      "120\n"
     ]
    }
   ],
   "source": [
    "fact = 1\n",
    "num = 5\n",
    "while num>0:\n",
    "    fact *= num\n",
    "    num-=1\n",
    "print(fact)"
   ]
  },
  {
   "cell_type": "code",
   "execution_count": null,
   "metadata": {},
   "outputs": [],
   "source": [
    "'abcdefghijklmnopqrstuvwxyz'\n",
    "#a-1\n",
    "#b-2\n",
    "#c-3\n",
    "\n",
    "#'DEEPESH'"
   ]
  },
  {
   "cell_type": "code",
   "execution_count": 73,
   "metadata": {},
   "outputs": [
    {
     "name": "stdout",
     "output_type": "stream",
     "text": [
      "Select an option\n",
      "1. Addtion\n",
      "2. Subtraction\n",
      "3. Multiplication\n",
      "4. Division\n",
      "Enter operation from 1-4: 1\n",
      "Enter first number:  1\n",
      "Enter second number: 2\n",
      "Addition of 1.0 and 2.0 will be 3.0 : \n"
     ]
    }
   ],
   "source": [
    "def add(x,y):\n",
    "    return x+y\n",
    "\n",
    "def sbtract(x,y):\n",
    "    return x-y\n",
    "\n",
    "def multiply(x,y):\n",
    "    return x*y\n",
    "\n",
    "def divide(x,y):\n",
    "     return x/y\n",
    "\n",
    "print(\"Select an option\")\n",
    "print(\"1. Addtion\")\n",
    "print(\"2. Subtraction\")\n",
    "print(\"3. Multiplication\")\n",
    "print(\"4. Division\")\n",
    "\n",
    "choice=input(\"Enter operation from 1-4: \")\n",
    "\n",
    "num1=float(input( \"Enter first number:  \"))\n",
    "num2=float(input( \"Enter second number: \"))\n",
    "\n",
    "if choice == '1':\n",
    "    print('Addition of {0} and {1} will be {2} : '.format(num1,num2,add(num1,num2)))\n",
    "elif choice == '2':\n",
    "    print('Subtraction of {0} and {1} will be {2} : '.format(num1,num2,subtract(num1,num2)))\n",
    "elif choice == '3':\n",
    "    print('Multiplication of {0} and {1} will be {2} : '.format(num1,num2,multiply(num1,num2)))\n",
    "elif choice == '4':\n",
    "    print('Multiplication of {0} and {1} will be {2} : '.format(num1,num2,divide(num1,num2)))\n",
    "else:\n",
    "    print(\"Invalid Choice\")\n"
   ]
  },
  {
   "cell_type": "code",
   "execution_count": null,
   "metadata": {},
   "outputs": [],
   "source": []
  }
 ],
 "metadata": {
  "colab": {
   "authorship_tag": "ABX9TyPa9m1hP6Qf5q+x2GqSN6KX",
   "collapsed_sections": [],
   "name": "Recap: Python for Data Science Assignment Problem.ipynb",
   "provenance": []
  },
  "kernelspec": {
   "display_name": "Python 3",
   "language": "python",
   "name": "python3"
  },
  "language_info": {
   "codemirror_mode": {
    "name": "ipython",
    "version": 3
   },
   "file_extension": ".py",
   "mimetype": "text/x-python",
   "name": "python",
   "nbconvert_exporter": "python",
   "pygments_lexer": "ipython3",
   "version": "3.7.4"
  }
 },
 "nbformat": 4,
 "nbformat_minor": 1
}
